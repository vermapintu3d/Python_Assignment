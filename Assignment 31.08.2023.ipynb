{
 "cells": [
  {
   "cell_type": "markdown",
   "id": "3bf855c5",
   "metadata": {},
   "source": [
    "# Question 1: Function Basics\n",
    "Define a function called greet that takes a name as an argument and prints a greeting message with the name."
   ]
  },
  {
   "cell_type": "code",
   "execution_count": 8,
   "id": "b164dae7",
   "metadata": {},
   "outputs": [],
   "source": [
    "def greet(name):\n",
    "    print(\"Hello Mr.\",name, \"welcome to India\")"
   ]
  },
  {
   "cell_type": "code",
   "execution_count": 9,
   "id": "660f4e34",
   "metadata": {},
   "outputs": [
    {
     "name": "stdout",
     "output_type": "stream",
     "text": [
      "Hello Mr. John welcome to India\n"
     ]
    }
   ],
   "source": [
    "greet(\"John\")"
   ]
  },
  {
   "cell_type": "code",
   "execution_count": 10,
   "id": "ba7fc62f",
   "metadata": {},
   "outputs": [
    {
     "name": "stdout",
     "output_type": "stream",
     "text": [
      "Hello Mr. Peter welcome to India\n"
     ]
    }
   ],
   "source": [
    "greet('Peter')"
   ]
  },
  {
   "cell_type": "markdown",
   "id": "73c239a1",
   "metadata": {},
   "source": [
    "# Question 2: Function with Return Value\n",
    "Define a function called square that takes a number as an argument and returns its square."
   ]
  },
  {
   "cell_type": "code",
   "execution_count": 11,
   "id": "55688090",
   "metadata": {},
   "outputs": [],
   "source": [
    "def square(num):\n",
    "    return num**2"
   ]
  },
  {
   "cell_type": "code",
   "execution_count": 12,
   "id": "5fcf5ca7",
   "metadata": {},
   "outputs": [
    {
     "data": {
      "text/plain": [
       "25"
      ]
     },
     "execution_count": 12,
     "metadata": {},
     "output_type": "execute_result"
    }
   ],
   "source": [
    "square(5)"
   ]
  },
  {
   "cell_type": "code",
   "execution_count": 13,
   "id": "247eb213",
   "metadata": {},
   "outputs": [
    {
     "data": {
      "text/plain": [
       "100"
      ]
     },
     "execution_count": 13,
     "metadata": {},
     "output_type": "execute_result"
    }
   ],
   "source": [
    "square(10)"
   ]
  },
  {
   "cell_type": "code",
   "execution_count": 14,
   "id": "3ece0920",
   "metadata": {},
   "outputs": [
    {
     "data": {
      "text/plain": [
       "400"
      ]
     },
     "execution_count": 14,
     "metadata": {},
     "output_type": "execute_result"
    }
   ],
   "source": [
    "square(20)"
   ]
  },
  {
   "cell_type": "code",
   "execution_count": 15,
   "id": "1cdf690f",
   "metadata": {},
   "outputs": [
    {
     "data": {
      "text/plain": [
       "4"
      ]
     },
     "execution_count": 15,
     "metadata": {},
     "output_type": "execute_result"
    }
   ],
   "source": [
    "square(2)"
   ]
  },
  {
   "cell_type": "markdown",
   "id": "831d6629",
   "metadata": {},
   "source": [
    "# Question 3: Function with Default Parameter\n",
    "Define a function called power that takes a base and an exponent as arguments,\n",
    "with the exponent having a default value of 2. \n",
    "The function should return the result of raising the base to the exponent."
   ]
  },
  {
   "cell_type": "code",
   "execution_count": 50,
   "id": "1b6c9b5f",
   "metadata": {},
   "outputs": [],
   "source": [
    "def power(base, exponent=2):\n",
    "    \n",
    "    print(base,'**',exponent,'=',base**exponent)"
   ]
  },
  {
   "cell_type": "code",
   "execution_count": 56,
   "id": "4489efb2",
   "metadata": {},
   "outputs": [
    {
     "name": "stdout",
     "output_type": "stream",
     "text": [
      "5 ** 2 = 25\n"
     ]
    }
   ],
   "source": [
    "power(5)"
   ]
  },
  {
   "cell_type": "code",
   "execution_count": 57,
   "id": "cef13277",
   "metadata": {},
   "outputs": [
    {
     "name": "stdout",
     "output_type": "stream",
     "text": [
      "5 ** 3 = 125\n"
     ]
    }
   ],
   "source": [
    "power(5,3)"
   ]
  },
  {
   "cell_type": "code",
   "execution_count": 58,
   "id": "cc2c59a1",
   "metadata": {},
   "outputs": [
    {
     "name": "stdout",
     "output_type": "stream",
     "text": [
      "4 ** 3 = 64\n"
     ]
    }
   ],
   "source": [
    "power(4,3)"
   ]
  },
  {
   "cell_type": "markdown",
   "id": "cd957858",
   "metadata": {},
   "source": [
    "# Question 4: Recursive Function\n",
    "Define a recursive function called factorial that calculates the factorial of a given positive integer."
   ]
  },
  {
   "cell_type": "code",
   "execution_count": 66,
   "id": "4ff779d1",
   "metadata": {},
   "outputs": [],
   "source": [
    "def fact(n):\n",
    "    if n==0 or n==1:\n",
    "        return 1\n",
    "    else:\n",
    "        return n*fact(n-1) "
   ]
  },
  {
   "cell_type": "code",
   "execution_count": 69,
   "id": "8793d571",
   "metadata": {},
   "outputs": [
    {
     "data": {
      "text/plain": [
       "120"
      ]
     },
     "execution_count": 69,
     "metadata": {},
     "output_type": "execute_result"
    }
   ],
   "source": [
    "fact(5)"
   ]
  },
  {
   "cell_type": "code",
   "execution_count": null,
   "id": "ea6b92ba",
   "metadata": {},
   "outputs": [],
   "source": []
  },
  {
   "cell_type": "markdown",
   "id": "069e3c53",
   "metadata": {},
   "source": [
    "# Question 5: Function with Variable Number of Arguments\n",
    "Define a function called calculate_sum that takes any number of arguments and returns their sum."
   ]
  },
  {
   "cell_type": "code",
   "execution_count": 65,
   "id": "d960baa1",
   "metadata": {},
   "outputs": [],
   "source": [
    "def caculate_sum(a,b):\n",
    "    return a+b"
   ]
  },
  {
   "cell_type": "code",
   "execution_count": 67,
   "id": "40fb19c1",
   "metadata": {},
   "outputs": [
    {
     "data": {
      "text/plain": [
       "20"
      ]
     },
     "execution_count": 67,
     "metadata": {},
     "output_type": "execute_result"
    }
   ],
   "source": [
    "caculate_sum(10, 10)"
   ]
  },
  {
   "cell_type": "code",
   "execution_count": 68,
   "id": "d119de7b",
   "metadata": {},
   "outputs": [
    {
     "data": {
      "text/plain": [
       "150"
      ]
     },
     "execution_count": 68,
     "metadata": {},
     "output_type": "execute_result"
    }
   ],
   "source": [
    "caculate_sum(100, 50)"
   ]
  },
  {
   "cell_type": "markdown",
   "id": "35dff130",
   "metadata": {},
   "source": [
    "# Question 6: Function with Keyword Arguments\n",
    "Define a function called print_info that takes the following arguments: name, age, and city. \n",
    "The function should print a formatted information message."
   ]
  },
  {
   "cell_type": "code",
   "execution_count": 70,
   "id": "627fc240",
   "metadata": {},
   "outputs": [],
   "source": [
    "def print_info(**kwargs):\n",
    "    return kwargs"
   ]
  },
  {
   "cell_type": "code",
   "execution_count": 71,
   "id": "688adf79",
   "metadata": {},
   "outputs": [
    {
     "data": {
      "text/plain": [
       "{'name': 'Pintu', 'age': 26, 'city': 'New Delhi'}"
      ]
     },
     "execution_count": 71,
     "metadata": {},
     "output_type": "execute_result"
    }
   ],
   "source": [
    "print_info(name='Pintu',age=26,city='New Delhi')"
   ]
  },
  {
   "cell_type": "code",
   "execution_count": 72,
   "id": "16d1413e",
   "metadata": {},
   "outputs": [
    {
     "data": {
      "text/plain": [
       "{'name': 'Pawan', 'age': 27, 'city': 'Surat'}"
      ]
     },
     "execution_count": 72,
     "metadata": {},
     "output_type": "execute_result"
    }
   ],
   "source": [
    "print_info(name='Pawan',age=27,city='Surat')"
   ]
  },
  {
   "cell_type": "markdown",
   "id": "8bdb6e67",
   "metadata": {},
   "source": []
  },
  {
   "cell_type": "markdown",
   "id": "768fecf2",
   "metadata": {},
   "source": [
    "# Question 1: Dictionary Basics\n",
    "Create an empty dictionary called my_dict.Add the key-value pairs: \"name\" with the value \"Alice\", \"age\" with the value 25, and \"city\" with the value \"New York\" to my_dict. Print the value associated with the key \"age\". Update the value of the \"age\" key to 26. Remove the key \"city\" from the dictionary. Check if the key \"name\" exists in the dictionary."
   ]
  },
  {
   "cell_type": "code",
   "execution_count": 73,
   "id": "aac27556",
   "metadata": {},
   "outputs": [],
   "source": [
    "my_dict={}"
   ]
  },
  {
   "cell_type": "code",
   "execution_count": 74,
   "id": "53a5995a",
   "metadata": {},
   "outputs": [
    {
     "data": {
      "text/plain": [
       "dict"
      ]
     },
     "execution_count": 74,
     "metadata": {},
     "output_type": "execute_result"
    }
   ],
   "source": [
    "type(my_dict)"
   ]
  },
  {
   "cell_type": "code",
   "execution_count": 86,
   "id": "9e9badd2",
   "metadata": {},
   "outputs": [],
   "source": [
    "my_dict={'name':'Alice','age':25,'city':'New York'}"
   ]
  },
  {
   "cell_type": "code",
   "execution_count": 98,
   "id": "a06207fb",
   "metadata": {},
   "outputs": [
    {
     "data": {
      "text/plain": [
       "{'name': 'Alice', 'age': 25, 'city': 'New York'}"
      ]
     },
     "execution_count": 98,
     "metadata": {},
     "output_type": "execute_result"
    }
   ],
   "source": [
    "my_dict"
   ]
  },
  {
   "cell_type": "code",
   "execution_count": 93,
   "id": "7f4e7928",
   "metadata": {},
   "outputs": [
    {
     "name": "stdout",
     "output_type": "stream",
     "text": [
      "The value associated with the key 'age' is: 25\n"
     ]
    }
   ],
   "source": [
    "print(\"The value associated with the key 'age' is:\",(my_dict['age']))"
   ]
  },
  {
   "cell_type": "code",
   "execution_count": 100,
   "id": "2627d9bb",
   "metadata": {},
   "outputs": [],
   "source": [
    "my_dict['age']=26"
   ]
  },
  {
   "cell_type": "code",
   "execution_count": 101,
   "id": "b20b9b91",
   "metadata": {},
   "outputs": [
    {
     "data": {
      "text/plain": [
       "{'name': 'Alice', 'age': 26, 'city': 'New York'}"
      ]
     },
     "execution_count": 101,
     "metadata": {},
     "output_type": "execute_result"
    }
   ],
   "source": [
    "my_dict"
   ]
  },
  {
   "cell_type": "code",
   "execution_count": 102,
   "id": "fef43f2b",
   "metadata": {},
   "outputs": [
    {
     "name": "stdout",
     "output_type": "stream",
     "text": [
      "The updated value of the 'age' is: 26\n"
     ]
    }
   ],
   "source": [
    "print(\"The updated value of the 'age' is:\",(my_dict['age']))   # age updated with value of 25 to 26"
   ]
  },
  {
   "cell_type": "code",
   "execution_count": 107,
   "id": "351eab57",
   "metadata": {},
   "outputs": [
    {
     "ename": "KeyError",
     "evalue": "'city'",
     "output_type": "error",
     "traceback": [
      "\u001b[1;31m---------------------------------------------------------------------------\u001b[0m",
      "\u001b[1;31mKeyError\u001b[0m                                  Traceback (most recent call last)",
      "Cell \u001b[1;32mIn[107], line 1\u001b[0m\n\u001b[1;32m----> 1\u001b[0m my_dict\u001b[38;5;241m.\u001b[39mpop(\u001b[38;5;124m'\u001b[39m\u001b[38;5;124mcity\u001b[39m\u001b[38;5;124m'\u001b[39m)\n",
      "\u001b[1;31mKeyError\u001b[0m: 'city'"
     ]
    }
   ],
   "source": [
    "my_dict.pop('city')  # city removed from the dict."
   ]
  },
  {
   "cell_type": "code",
   "execution_count": 109,
   "id": "e026e339",
   "metadata": {},
   "outputs": [
    {
     "data": {
      "text/plain": [
       "{'name': 'Alice', 'age': 26}"
      ]
     },
     "execution_count": 109,
     "metadata": {},
     "output_type": "execute_result"
    }
   ],
   "source": [
    "my_dict"
   ]
  },
  {
   "cell_type": "code",
   "execution_count": 110,
   "id": "a501576c",
   "metadata": {},
   "outputs": [
    {
     "data": {
      "text/plain": [
       "True"
      ]
     },
     "execution_count": 110,
     "metadata": {},
     "output_type": "execute_result"
    }
   ],
   "source": [
    "'name' in my_dict   # checking if 'name' is exist in dictionary"
   ]
  },
  {
   "cell_type": "code",
   "execution_count": 111,
   "id": "d585aff4",
   "metadata": {},
   "outputs": [
    {
     "data": {
      "text/plain": [
       "'Alice'"
      ]
     },
     "execution_count": 111,
     "metadata": {},
     "output_type": "execute_result"
    }
   ],
   "source": [
    "my_dict['name']  #  name exist with value 'Alice'"
   ]
  },
  {
   "cell_type": "markdown",
   "id": "def09468",
   "metadata": {},
   "source": [
    "# Question 2: Dictionary Manipulation\n",
    "\n",
    "Create two dictionaries: dict1 with keys \"a\", \"b\", and \"c\" mapping to values 1, 2, and 3, and dict2 with keys \"b\", \"c\", and \"d\" mapping to values 4, 5, and 6. Merge dict2 into dict1 to update the values of common keys, and add the missing keys. Calculate the sum of all values in the merged dictionary.\n"
   ]
  },
  {
   "cell_type": "code",
   "execution_count": 2,
   "id": "1e579130",
   "metadata": {},
   "outputs": [],
   "source": [
    "dict1={'a':1,'b':2,'c':3}\n",
    "dict2={'b':4,'c':5,'d':6}"
   ]
  },
  {
   "cell_type": "code",
   "execution_count": 3,
   "id": "7d27dc74",
   "metadata": {},
   "outputs": [],
   "source": [
    "dict1.update(dict2)"
   ]
  },
  {
   "cell_type": "code",
   "execution_count": 4,
   "id": "b03eec1a",
   "metadata": {},
   "outputs": [
    {
     "data": {
      "text/plain": [
       "{'a': 1, 'b': 4, 'c': 5, 'd': 6}"
      ]
     },
     "execution_count": 4,
     "metadata": {},
     "output_type": "execute_result"
    }
   ],
   "source": [
    "dict1"
   ]
  },
  {
   "cell_type": "code",
   "execution_count": 5,
   "id": "0eeaab86",
   "metadata": {},
   "outputs": [],
   "source": [
    "sumof=sum(dict1.values())"
   ]
  },
  {
   "cell_type": "code",
   "execution_count": 13,
   "id": "43207e7c",
   "metadata": {},
   "outputs": [
    {
     "data": {
      "text/plain": [
       "16"
      ]
     },
     "execution_count": 13,
     "metadata": {},
     "output_type": "execute_result"
    }
   ],
   "source": [
    "sumof"
   ]
  },
  {
   "cell_type": "code",
   "execution_count": null,
   "id": "dd29d286",
   "metadata": {},
   "outputs": [],
   "source": []
  },
  {
   "cell_type": "markdown",
   "id": "fe19bb05",
   "metadata": {},
   "source": [
    "# Question 3: Dictionary Iteration\n",
    "\n",
    "Create a dictionary with at least 5 key-value pairs of your choice. Write a loop to iterate through the dictionary and print each key and its corresponding value."
   ]
  },
  {
   "cell_type": "code",
   "execution_count": 14,
   "id": "491fb124",
   "metadata": {},
   "outputs": [],
   "source": [
    "dic={'Name':'Pintu Verma', 'Age':26, 'Gender':'Male', 'Place':'New Delhi','Pincode':110003}"
   ]
  },
  {
   "cell_type": "code",
   "execution_count": 15,
   "id": "b544ac1a",
   "metadata": {},
   "outputs": [
    {
     "name": "stdout",
     "output_type": "stream",
     "text": [
      "Name : Pintu Verma\n",
      "Age : 26\n",
      "Gender : Male\n",
      "Place : New Delhi\n",
      "Pincode : 110003\n"
     ]
    }
   ],
   "source": [
    "for k,v in dic.items():\n",
    "    print(k,':',v)"
   ]
  },
  {
   "cell_type": "code",
   "execution_count": null,
   "id": "d88104aa",
   "metadata": {},
   "outputs": [],
   "source": []
  },
  {
   "cell_type": "markdown",
   "id": "1a822980",
   "metadata": {},
   "source": [
    "# Question 4: Dictionary Manipulation and Comprehension\n",
    "\n",
    "Create a dictionary with the numbers from 1 to 10 as keys and their squares as values. Use a dictionary comprehension to create a new dictionary containing only the items with even keys."
   ]
  },
  {
   "cell_type": "code",
   "execution_count": 26,
   "id": "b12aaf1f",
   "metadata": {},
   "outputs": [],
   "source": [
    "dict_1={1:1,2:4,3:9,4:16,5:25,6:36,7:49,8:64,9:81,10:100}"
   ]
  },
  {
   "cell_type": "code",
   "execution_count": 28,
   "id": "e21dff81",
   "metadata": {},
   "outputs": [
    {
     "data": {
      "text/plain": [
       "{2: 4, 4: 16, 6: 36, 8: 64, 10: 100}"
      ]
     },
     "execution_count": 28,
     "metadata": {},
     "output_type": "execute_result"
    }
   ],
   "source": [
    "{k:v for k,v in dict_1.items() if k%2==0}"
   ]
  },
  {
   "cell_type": "code",
   "execution_count": null,
   "id": "1a3cd63f",
   "metadata": {},
   "outputs": [],
   "source": []
  },
  {
   "cell_type": "markdown",
   "id": "5b110eb5",
   "metadata": {},
   "source": [
    "# Question 5: Nested Dictionaries\n",
    "\n",
    "Create a nested dictionary representing a simple student database. Each student should have a name, age, and a list of subjects they are enrolled in along with their respective grades. Print the name and average grade of each student."
   ]
  },
  {
   "cell_type": "code",
   "execution_count": 23,
   "id": "de4f30c4",
   "metadata": {},
   "outputs": [],
   "source": [
    "student_info={\n",
    "    \"Dilip Verma\":{'Age':18,'Subjects':{'Maths':99,'English':77, 'Hindi':75,'Marathi':65,'Science':85,'Social Science':95}},\n",
    "    'Deepak Mehta':{'Age':17,'Subjects':{'Maths':100,'English':85,'Hindi':90,'Marathi':87,'Science':72,'Social Science':55}},\n",
    "    'Suraj Shah':{'Age':16, 'Subjects':{'Maths':62, 'English':50, 'Hindi':60,'Marathi':75,'Science':100,'Social Science':92}}\n",
    "}"
   ]
  },
  {
   "cell_type": "code",
   "execution_count": 24,
   "id": "65a039af",
   "metadata": {},
   "outputs": [
    {
     "data": {
      "text/plain": [
       "{'Dilip Verma': {'Age': 18,\n",
       "  'Subjects': {'Maths': 99,\n",
       "   'English': 77,\n",
       "   'Hindi': 75,\n",
       "   'Marathi': 65,\n",
       "   'Science': 85,\n",
       "   'Social Science': 95}},\n",
       " 'Deepak Mehta': {'Age': 17,\n",
       "  'Subjects': {'Maths': 100,\n",
       "   'English': 85,\n",
       "   'Hindi': 90,\n",
       "   'Marathi': 87,\n",
       "   'Science': 72,\n",
       "   'Social Science': 55}},\n",
       " 'Suraj Shah': {'Age': 16,\n",
       "  'Subjects': {'Maths': 62,\n",
       "   'English': 50,\n",
       "   'Hindi': 60,\n",
       "   'Marathi': 75,\n",
       "   'Science': 100,\n",
       "   'Social Science': 92}}}"
      ]
     },
     "execution_count": 24,
     "metadata": {},
     "output_type": "execute_result"
    }
   ],
   "source": [
    "student_info"
   ]
  },
  {
   "cell_type": "code",
   "execution_count": 25,
   "id": "15880760",
   "metadata": {},
   "outputs": [
    {
     "data": {
      "text/plain": [
       "dict_keys(['Dilip Verma', 'Deepak Mehta', 'Suraj Shah'])"
      ]
     },
     "execution_count": 25,
     "metadata": {},
     "output_type": "execute_result"
    }
   ],
   "source": [
    "student_info.keys()"
   ]
  },
  {
   "cell_type": "code",
   "execution_count": 72,
   "id": "57ea2c60",
   "metadata": {},
   "outputs": [
    {
     "name": "stdout",
     "output_type": "stream",
     "text": [
      "Dilip Verma\n",
      "Average Grade = 82.67\n",
      "\n",
      "Deepak Mehta\n",
      "Average Grade = 81.50\n",
      "\n",
      "Suraj Shah\n",
      "Average Grade = 73.17\n",
      "\n"
     ]
    }
   ],
   "source": [
    "student_info={\n",
    "    \"Dilip Verma\":{'Age':18,'Subjects':{'Maths':99,'English':77, 'Hindi':75,'Marathi':65,'Science':85,'Social Science':95}},\n",
    "    'Deepak Mehta':{'Age':17,'Subjects':{'Maths':100,'English':85,'Hindi':90,'Marathi':87,'Science':72,'Social Science':55}},\n",
    "    'Suraj Shah':{'Age':16, 'Subjects':{'Maths':62, 'English':50, 'Hindi':60,'Marathi':75,'Science':100,'Social Science':92}}\n",
    "}\n",
    "\n",
    "for x, y in student_info.items():\n",
    "    grades=y['Subjects'].values()\n",
    "    avg_grade= sum(grades)/len(grades)\n",
    "    print(f'{x}')\n",
    "    print(f'Average Grade = {avg_grade:.2f}')\n",
    "    print()"
   ]
  },
  {
   "cell_type": "code",
   "execution_count": null,
   "id": "1f0ef712",
   "metadata": {},
   "outputs": [],
   "source": []
  },
  {
   "cell_type": "code",
   "execution_count": null,
   "id": "ca6a5114",
   "metadata": {},
   "outputs": [],
   "source": []
  },
  {
   "cell_type": "markdown",
   "id": "e158d8a1",
   "metadata": {},
   "source": [
    "# Question 6: Dictionary Methods\n",
    "\n",
    "Create a dictionary with some key-value pairs. Use the keys(), values(), and items() methods to get the keys, values, and items of the dictionary, and print them."
   ]
  },
  {
   "cell_type": "code",
   "execution_count": 79,
   "id": "f6987e27",
   "metadata": {},
   "outputs": [],
   "source": [
    "dict_info={'Name':'Pintu Verma', 'Age':26, 'Gender':'Male', 'Place':'New Delhi','Pincode':110003}"
   ]
  },
  {
   "cell_type": "code",
   "execution_count": 82,
   "id": "e58a2518",
   "metadata": {},
   "outputs": [
    {
     "data": {
      "text/plain": [
       "dict_keys(['Name', 'Age', 'Gender', 'Place', 'Pincode'])"
      ]
     },
     "execution_count": 82,
     "metadata": {},
     "output_type": "execute_result"
    }
   ],
   "source": [
    "dict_info.keys()  # keys()"
   ]
  },
  {
   "cell_type": "code",
   "execution_count": 83,
   "id": "d2e2bf26",
   "metadata": {},
   "outputs": [
    {
     "data": {
      "text/plain": [
       "dict_values(['Pintu Verma', 26, 'Male', 'New Delhi', 110003])"
      ]
     },
     "execution_count": 83,
     "metadata": {},
     "output_type": "execute_result"
    }
   ],
   "source": [
    "dict_info.values()   # values()"
   ]
  },
  {
   "cell_type": "code",
   "execution_count": 85,
   "id": "1f33961c",
   "metadata": {},
   "outputs": [
    {
     "data": {
      "text/plain": [
       "dict_items([('Name', 'Pintu Verma'), ('Age', 26), ('Gender', 'Male'), ('Place', 'New Delhi'), ('Pincode', 110003)])"
      ]
     },
     "execution_count": 85,
     "metadata": {},
     "output_type": "execute_result"
    }
   ],
   "source": [
    "dict_info.items()    # items()"
   ]
  },
  {
   "cell_type": "code",
   "execution_count": null,
   "id": "edb16d2d",
   "metadata": {},
   "outputs": [],
   "source": []
  },
  {
   "cell_type": "code",
   "execution_count": null,
   "id": "acf9cbd0",
   "metadata": {},
   "outputs": [],
   "source": []
  },
  {
   "cell_type": "raw",
   "id": "bd141638",
   "metadata": {},
   "source": []
  },
  {
   "cell_type": "code",
   "execution_count": null,
   "id": "0c71f4e0",
   "metadata": {},
   "outputs": [],
   "source": [
    "\n"
   ]
  }
 ],
 "metadata": {
  "kernelspec": {
   "display_name": "Python 3 (ipykernel)",
   "language": "python",
   "name": "python3"
  },
  "language_info": {
   "codemirror_mode": {
    "name": "ipython",
    "version": 3
   },
   "file_extension": ".py",
   "mimetype": "text/x-python",
   "name": "python",
   "nbconvert_exporter": "python",
   "pygments_lexer": "ipython3",
   "version": "3.11.4"
  }
 },
 "nbformat": 4,
 "nbformat_minor": 5
}
