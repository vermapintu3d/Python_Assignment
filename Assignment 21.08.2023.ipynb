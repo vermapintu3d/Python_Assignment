{
 "cells": [
  {
   "cell_type": "code",
   "execution_count": 1,
   "id": "ba13863c",
   "metadata": {},
   "outputs": [],
   "source": [
    "#Example 1: Checking if a number is positive, negative, or zero"
   ]
  },
  {
   "cell_type": "code",
   "execution_count": null,
   "id": "0daea09e",
   "metadata": {},
   "outputs": [],
   "source": [
    "x = int(input(\"Please enter any number:\"))\n",
    "\n",
    "if x>0:\n",
    "    print(\"It's Postive number\")\n",
    "elif x==0:\n",
    "    print(\"It's zero\")\n",
    "else:\n",
    "    print(\"It's Negative number\")"
   ]
  },
  {
   "cell_type": "code",
   "execution_count": null,
   "id": "add82fff",
   "metadata": {},
   "outputs": [],
   "source": [
    "#Example 2: Checking if a year is a leap year."
   ]
  },
  {
   "cell_type": "code",
   "execution_count": null,
   "id": "198407d2",
   "metadata": {},
   "outputs": [],
   "source": [
    "year = int(input(\"Please enter any year:\"))\n",
    "if (year%400==0) and (year%100==0):\n",
    "    print(str(year)+\" is the leap year\")\n",
    "elif (year%4==0) and (year%100!=0):\n",
    "    print(str(year)+\" is the leap year\")\n",
    "else:\n",
    "    print(str(year)+\" is not leap year\")"
   ]
  },
  {
   "cell_type": "code",
   "execution_count": null,
   "id": "6a30b5d9",
   "metadata": {},
   "outputs": [],
   "source": [
    "# Example 3: Determining the largest of three numbers"
   ]
  },
  {
   "cell_type": "code",
   "execution_count": 3,
   "id": "eb0bc2aa",
   "metadata": {},
   "outputs": [
    {
     "name": "stdout",
     "output_type": "stream",
     "text": [
      "Please enter value of a:500\n",
      "Please enter value of b:400\n",
      "Please enter value of c:900\n",
      "'c' is the largest number\n"
     ]
    }
   ],
   "source": [
    "a = int(input(\"Please enter value of a:\"))\n",
    "b = int(input(\"Please enter value of b:\"))\n",
    "c = int(input(\"Please enter value of c:\"))\n",
    "\n",
    "if a>b and a>c:\n",
    "    print(\"'a' is the largest number\")\n",
    "elif b>a and b>c:\n",
    "    print(\"'b' is the largest number\")\n",
    "else:\n",
    "    print(\"'c' is the largest number\")"
   ]
  },
  {
   "cell_type": "code",
   "execution_count": 4,
   "id": "0edff58e",
   "metadata": {},
   "outputs": [],
   "source": [
    "#Example 4: Checking eligibility for voting"
   ]
  },
  {
   "cell_type": "code",
   "execution_count": 8,
   "id": "64c680f4",
   "metadata": {},
   "outputs": [
    {
     "name": "stdout",
     "output_type": "stream",
     "text": [
      "Please eneter your age:18\n",
      "You are eligible for voting\n"
     ]
    }
   ],
   "source": [
    "age = int(input(\"Please eneter your age:\"))\n",
    "if age>=18:\n",
    "    print(\"You are eligible for voting\")\n",
    "else:\n",
    "    print(\"You are below age of 18, not eligible for voting\")"
   ]
  },
  {
   "cell_type": "code",
   "execution_count": 9,
   "id": "2637543c",
   "metadata": {},
   "outputs": [],
   "source": [
    "# Question 5: Triangle Type Write a program that takes the lengths of three sides of a triangle as input and determines \n",
    "# whether it's an equilateral, isosceles, or scalene triangle.\n"
   ]
  },
  {
   "cell_type": "code",
   "execution_count": 18,
   "id": "8fa23b7d",
   "metadata": {},
   "outputs": [
    {
     "name": "stdout",
     "output_type": "stream",
     "text": [
      "Please enter the length of x:52\n",
      "Please enter the length of y:52\n",
      "Please enter the length of z:20\n",
      "It's an isosceles triangle\n"
     ]
    }
   ],
   "source": [
    "x = int(input(\"Please enter the length of x:\"))\n",
    "y = int(input(\"Please enter the length of y:\"))\n",
    "z = int(input(\"Please enter the length of z:\"))\n",
    "\n",
    "if x==y and y==z:\n",
    "    print(\"It's an equilateral triangle\")\n",
    "elif x==y and y!=z:\n",
    "    print(\"It's an isosceles triangle\")\n",
    "elif y==z and z!=x:\n",
    "    print(\"It's an isosceles triangle\")\n",
    "elif z==x and x!=y:\n",
    "    print(\"It's an isosceles triangle\")\n",
    "else:\n",
    "    print(\"It's scalene triangle\")"
   ]
  },
  {
   "cell_type": "code",
   "execution_count": 19,
   "id": "a6f3f21d",
   "metadata": {},
   "outputs": [],
   "source": [
    "# Example 6: Temperature Conversion, Write a program that converts a temperature from Celsius to Fahrenheit or vice versa \n",
    "# based on user input."
   ]
  },
  {
   "cell_type": "code",
   "execution_count": 23,
   "id": "e24719be",
   "metadata": {},
   "outputs": [
    {
     "name": "stdout",
     "output_type": "stream",
     "text": [
      "Please enter temperature as Celsius:30\n",
      "The Fahrenheit is:86.0\n"
     ]
    }
   ],
   "source": [
    "user = int(input(\"Please enter temperature as Celsius:\"))\n",
    "a = user/5*9+32\n",
    "print(\"The Fahrenheit is:\"+str(a))"
   ]
  },
  {
   "cell_type": "code",
   "execution_count": 24,
   "id": "eb5d2112",
   "metadata": {},
   "outputs": [],
   "source": [
    "# Example 7: Grade Calculation Write a program that takes a student's score as input and outputs their corresponding grade."
   ]
  },
  {
   "cell_type": "code",
   "execution_count": 12,
   "id": "8d7d2924",
   "metadata": {},
   "outputs": [
    {
     "name": "stdout",
     "output_type": "stream",
     "text": [
      "Please enter the obtain score:33\n",
      "D Grade\n"
     ]
    }
   ],
   "source": [
    "score = int(input(\"Please enter the obtain score:\"))\n",
    "\n",
    "if score>=91 and score<=100:\n",
    "\tprint(\"A+ Garade\")\n",
    "elif score>=81 and score<=90:\n",
    "\tprint(\"A Grade\")\n",
    "elif score>=71 and score<=80:\n",
    "\tprint(\"B+ Grade\")\n",
    "elif score>=61 and score<=70:\n",
    "\tprint(\"B Grade\")\n",
    "elif score>=51 and score<=60:\n",
    "\tprint(\"C+ Grade\")\n",
    "elif score>=41 and score<=50:\n",
    "\tprint(\"C Grade\")\n",
    "elif score>=33 and score<=40:\n",
    "\tprint(\"D Grade\")\n",
    "else:\n",
    "\tprint(\"Failed\")"
   ]
  },
  {
   "cell_type": "code",
   "execution_count": null,
   "id": "3fd8c6a4",
   "metadata": {},
   "outputs": [],
   "source": []
  },
  {
   "cell_type": "code",
   "execution_count": 2,
   "id": "1cd9e774",
   "metadata": {},
   "outputs": [],
   "source": [
    "# Example 8: Login System Create a simple login system where the user needs to input a username and password. "
   ]
  },
  {
   "cell_type": "code",
   "execution_count": 1,
   "id": "fbb5329d",
   "metadata": {},
   "outputs": [
    {
     "name": "stdout",
     "output_type": "stream",
     "text": [
      "Username:pintu\n",
      "Password:pintu\n",
      "Login Succesfully Done\n"
     ]
    }
   ],
   "source": [
    "usern = input(\"Username:\")\n",
    "passw = input(\"Password:\")\n",
    "if usern==passw:\n",
    "    print(\"Login Succesfully Done\")\n",
    "else:\n",
    "    print(\"Ivalid username and passwod\")"
   ]
  },
  {
   "cell_type": "code",
   "execution_count": null,
   "id": "87522e1e",
   "metadata": {},
   "outputs": [],
   "source": [
    "#Example 9: Divisibility Check Write a program that checks if a number is divisible by both 3 and 5, only by 3, only by 5,\n",
    "# or not by either."
   ]
  },
  {
   "cell_type": "code",
   "execution_count": null,
   "id": "588a2860",
   "metadata": {},
   "outputs": [],
   "source": [
    "num = float(input(\"Pleae enter any number:\"))\n",
    "if num%3==0 and num%5==0:\n",
    "    print(\"Number is divisible by both 3 and 5\")\n",
    "elif num%3==0:\n",
    "    print(\"Number is divisible by only 3\")\n",
    "elif num%5==0:\n",
    "    print(\"Number is divisile by only 5\")\n",
    "else:\n",
    "    print(\"Not divisible by 3 and 5\")\n",
    "    \n"
   ]
  },
  {
   "cell_type": "code",
   "execution_count": null,
   "id": "ecc94020",
   "metadata": {},
   "outputs": [],
   "source": []
  }
 ],
 "metadata": {
  "kernelspec": {
   "display_name": "Python 3 (ipykernel)",
   "language": "python",
   "name": "python3"
  },
  "language_info": {
   "codemirror_mode": {
    "name": "ipython",
    "version": 3
   },
   "file_extension": ".py",
   "mimetype": "text/x-python",
   "name": "python",
   "nbconvert_exporter": "python",
   "pygments_lexer": "ipython3",
   "version": "3.11.4"
  }
 },
 "nbformat": 4,
 "nbformat_minor": 5
}
