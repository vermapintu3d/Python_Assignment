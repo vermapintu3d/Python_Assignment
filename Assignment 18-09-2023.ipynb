{
 "cells": [
  {
   "cell_type": "markdown",
   "id": "c1362007",
   "metadata": {},
   "source": [
    "Question 1:Create a Python class called Rectangle with attributes length and width. Implement methods to calculate the area and perimeter of the rectangle."
   ]
  },
  {
   "cell_type": "code",
   "execution_count": 2,
   "id": "ee34b956",
   "metadata": {},
   "outputs": [
    {
     "name": "stdout",
     "output_type": "stream",
     "text": [
      "The area of the rectangle is:200\n",
      "The perimeter of the rectanle is:60\n"
     ]
    }
   ],
   "source": [
    "class Rectanle:\n",
    "    def __init__(self, length, width):\n",
    "        self.length=length\n",
    "        self.width=width\n",
    "        \n",
    "    def area(self):\n",
    "        return self.length*self.width\n",
    "    def perimeter(self):\n",
    "        return 2*(self.length+self.width)\n",
    "h1=Rectanle(10, 20)\n",
    "a=Rectanle.area(h1)\n",
    "b=Rectanle.perimeter(h1)\n",
    "print(f\"The area of the rectangle is:{a}\")\n",
    "print(f\"The perimeter of the rectanle is:{b}\")"
   ]
  },
  {
   "cell_type": "code",
   "execution_count": null,
   "id": "7f5986b3",
   "metadata": {},
   "outputs": [],
   "source": []
  },
  {
   "cell_type": "markdown",
   "id": "ffb46b10",
   "metadata": {},
   "source": [
    "Question 2: Create a Python class called Employee with attributes name, salary, and role. Implement a method to give a salary raise to an employee."
   ]
  },
  {
   "cell_type": "code",
   "execution_count": 27,
   "id": "c9035817",
   "metadata": {},
   "outputs": [
    {
     "name": "stdout",
     "output_type": "stream",
     "text": [
      "Employee name: Suraj\n",
      "The designation: S/w Engineer\n",
      "The salary raised to: 25000\n"
     ]
    }
   ],
   "source": [
    "class Employee:\n",
    "    def __init__(self, name, salary, role):\n",
    "        self.name=name\n",
    "        self.salary=salary\n",
    "        self.role=role\n",
    "    \n",
    "    def new_salary(self):\n",
    "        self.salary+=10000\n",
    "        return self.salary\n",
    "new=Employee(\"Suraj\", 15000, \"S/w Engineer\")\n",
    "print(f\"Employee name:\",new.name)\n",
    "print(f\"The designation:\",new.role)\n",
    "print(f\"The salary raised to:\",new.new_salary())"
   ]
  },
  {
   "cell_type": "code",
   "execution_count": null,
   "id": "8fa2e63d",
   "metadata": {},
   "outputs": [],
   "source": []
  },
  {
   "cell_type": "markdown",
   "id": "a899b910",
   "metadata": {},
   "source": [
    "Question 3: Create a Python class called BankAccount with attributes account_number and balance. Implement methods to deposit and withdraw money from the account while keeping track of the balance."
   ]
  },
  {
   "cell_type": "code",
   "execution_count": 70,
   "id": "a6db839f",
   "metadata": {},
   "outputs": [],
   "source": [
    "class BankAccount:\n",
    "    def __init__(self, account_number, balance):\n",
    "        self.account_number=account_number\n",
    "        self.balance=balance\n",
    "    def deposit(self, deposit):\n",
    "        self.deposit=deposit\n",
    "        self.balance+=self.deposit\n",
    "        return f\"The amount of {self.deposit} has been deposited in you account. The Total bal. {self.balance}\"\n",
    "    def withdraw(self, withdraw):\n",
    "        self.withdraw=withdraw\n",
    "        self.balance-=self.withdraw\n",
    "        return f\"The amount of {self.withdraw} has been withdraw. The remaining bal. {self.balance}\""
   ]
  },
  {
   "cell_type": "code",
   "execution_count": 71,
   "id": "f277bce1",
   "metadata": {},
   "outputs": [],
   "source": [
    "c=BankAccount(47821011000, 5000)"
   ]
  },
  {
   "cell_type": "code",
   "execution_count": 72,
   "id": "62871d00",
   "metadata": {},
   "outputs": [
    {
     "name": "stdout",
     "output_type": "stream",
     "text": [
      "47821011000\n",
      "5000\n"
     ]
    }
   ],
   "source": [
    "print(c.account_number)\n",
    "print(c.balance)"
   ]
  },
  {
   "cell_type": "code",
   "execution_count": 73,
   "id": "46ecc7d5",
   "metadata": {},
   "outputs": [
    {
     "data": {
      "text/plain": [
       "'The amount of 200 has been deposited in you account. The Total bal. 5200'"
      ]
     },
     "execution_count": 73,
     "metadata": {},
     "output_type": "execute_result"
    }
   ],
   "source": [
    "c.deposit(200)"
   ]
  },
  {
   "cell_type": "code",
   "execution_count": 74,
   "id": "f48c5609",
   "metadata": {},
   "outputs": [
    {
     "data": {
      "text/plain": [
       "'The amount of 4000 has been withdraw. The remaining bal. 1200'"
      ]
     },
     "execution_count": 74,
     "metadata": {},
     "output_type": "execute_result"
    }
   ],
   "source": [
    "c.withdraw(4000)"
   ]
  },
  {
   "cell_type": "code",
   "execution_count": 75,
   "id": "7737b9c0",
   "metadata": {},
   "outputs": [
    {
     "data": {
      "text/plain": [
       "1200"
      ]
     },
     "execution_count": 75,
     "metadata": {},
     "output_type": "execute_result"
    }
   ],
   "source": [
    "c.balance"
   ]
  },
  {
   "cell_type": "code",
   "execution_count": 59,
   "id": "fae8fa3d",
   "metadata": {},
   "outputs": [
    {
     "data": {
      "text/plain": [
       "1200"
      ]
     },
     "execution_count": 59,
     "metadata": {},
     "output_type": "execute_result"
    }
   ],
   "source": [
    "c.balance"
   ]
  },
  {
   "cell_type": "code",
   "execution_count": null,
   "id": "c0e846ca",
   "metadata": {},
   "outputs": [],
   "source": []
  },
  {
   "cell_type": "markdown",
   "id": "ece335b5",
   "metadata": {},
   "source": [
    "Question 4: Create a Python class hierarchy for shapes, including Circle and Rectangle. Implement a method to calculate the area of each shape."
   ]
  },
  {
   "cell_type": "code",
   "execution_count": 177,
   "id": "9312bf55",
   "metadata": {},
   "outputs": [],
   "source": [
    "from math import pi\n",
    "class Hierarchy:\n",
    "    def __init__(self):\n",
    "        pass\n",
    "        \n",
    "    def circle(self,pi, radius):\n",
    "        self.radius=radius\n",
    "        return f\"The area (π*r*r) of circle is:{pi}*{self.radius}*{self.radius}={pi*(self.radius*self.radius)}\"\n",
    "        \n",
    "    def rectangle(self, length, width):\n",
    "        self.length=length\n",
    "        self.width=width\n",
    "        return f\"The area of rectangle is:{self.length}*{self.width}={self.length*self.width}\"\n",
    "    \n",
    "        "
   ]
  },
  {
   "cell_type": "code",
   "execution_count": 178,
   "id": "f37150f7",
   "metadata": {},
   "outputs": [],
   "source": [
    "h_1=Hierarchy()"
   ]
  },
  {
   "cell_type": "code",
   "execution_count": 179,
   "id": "d3d7bec2",
   "metadata": {},
   "outputs": [
    {
     "data": {
      "text/plain": [
       "'The area (π*r*r) of circle is:3.141592653589793*3*3=28.274333882308138'"
      ]
     },
     "execution_count": 179,
     "metadata": {},
     "output_type": "execute_result"
    }
   ],
   "source": [
    "h_1.circle(pi,3)"
   ]
  },
  {
   "cell_type": "code",
   "execution_count": 180,
   "id": "529a0597",
   "metadata": {},
   "outputs": [
    {
     "data": {
      "text/plain": [
       "'The area (π*r*r) of circle is:3.141592653589793*5*5=78.53981633974483'"
      ]
     },
     "execution_count": 180,
     "metadata": {},
     "output_type": "execute_result"
    }
   ],
   "source": [
    "h_1.circle(pi,5)"
   ]
  },
  {
   "cell_type": "code",
   "execution_count": 181,
   "id": "ef0810ca",
   "metadata": {},
   "outputs": [
    {
     "data": {
      "text/plain": [
       "'The area of rectangle is:5*10=50'"
      ]
     },
     "execution_count": 181,
     "metadata": {},
     "output_type": "execute_result"
    }
   ],
   "source": [
    "h_1.rectangle(5,10)"
   ]
  },
  {
   "cell_type": "code",
   "execution_count": null,
   "id": "6f33faae",
   "metadata": {},
   "outputs": [],
   "source": []
  }
 ],
 "metadata": {
  "kernelspec": {
   "display_name": "Python 3 (ipykernel)",
   "language": "python",
   "name": "python3"
  },
  "language_info": {
   "codemirror_mode": {
    "name": "ipython",
    "version": 3
   },
   "file_extension": ".py",
   "mimetype": "text/x-python",
   "name": "python",
   "nbconvert_exporter": "python",
   "pygments_lexer": "ipython3",
   "version": "3.11.4"
  }
 },
 "nbformat": 4,
 "nbformat_minor": 5
}
