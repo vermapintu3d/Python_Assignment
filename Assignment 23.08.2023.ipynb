{
 "cells": [
  {
   "cell_type": "markdown",
   "id": "11a255bb",
   "metadata": {},
   "source": [
    "# Tuple:\n",
    "Question 1: Tuple Basics\n",
    "Define a tuple containing the names of five countries.Access and print the third country from the tuple."
   ]
  },
  {
   "cell_type": "code",
   "execution_count": 5,
   "id": "cb407289",
   "metadata": {},
   "outputs": [],
   "source": [
    "t = (\"India\", \"America\", \"Chin\", \"Iran\", \"Russia\")"
   ]
  },
  {
   "cell_type": "code",
   "execution_count": 6,
   "id": "cb768293",
   "metadata": {},
   "outputs": [
    {
     "data": {
      "text/plain": [
       "'Chin'"
      ]
     },
     "execution_count": 6,
     "metadata": {},
     "output_type": "execute_result"
    }
   ],
   "source": [
    "t[2]"
   ]
  },
  {
   "cell_type": "code",
   "execution_count": 7,
   "id": "b11010b0",
   "metadata": {},
   "outputs": [],
   "source": [
    "# Question 2: Unpacking Tuples\n",
    "# Write a Python program that defines a tuple containing a student's name and their score in a test.\n",
    "# Unpack the tuple to separate the name and score, and then print them."
   ]
  },
  {
   "cell_type": "code",
   "execution_count": 26,
   "id": "ed62762b",
   "metadata": {},
   "outputs": [],
   "source": [
    "info = (\"Pawan\", 26, 95)"
   ]
  },
  {
   "cell_type": "code",
   "execution_count": 27,
   "id": "de7384e9",
   "metadata": {},
   "outputs": [],
   "source": [
    "Name,Age,Marks=info"
   ]
  },
  {
   "cell_type": "code",
   "execution_count": 28,
   "id": "d4c75fb7",
   "metadata": {},
   "outputs": [
    {
     "data": {
      "text/plain": [
       "'Pawan'"
      ]
     },
     "execution_count": 28,
     "metadata": {},
     "output_type": "execute_result"
    }
   ],
   "source": [
    "Name"
   ]
  },
  {
   "cell_type": "code",
   "execution_count": 29,
   "id": "addc0fee",
   "metadata": {},
   "outputs": [
    {
     "data": {
      "text/plain": [
       "26"
      ]
     },
     "execution_count": 29,
     "metadata": {},
     "output_type": "execute_result"
    }
   ],
   "source": [
    "Age"
   ]
  },
  {
   "cell_type": "code",
   "execution_count": 30,
   "id": "7555138e",
   "metadata": {},
   "outputs": [
    {
     "data": {
      "text/plain": [
       "95"
      ]
     },
     "execution_count": 30,
     "metadata": {},
     "output_type": "execute_result"
    }
   ],
   "source": [
    "Marks"
   ]
  },
  {
   "cell_type": "code",
   "execution_count": 31,
   "id": "8098a201",
   "metadata": {},
   "outputs": [],
   "source": [
    "# Question 3: Tuple Concatenation\n",
    "# Write a Python program that takes two tuples as input and returns.\n",
    "# a new tuple containing the elements from both tuples."
   ]
  },
  {
   "cell_type": "code",
   "execution_count": 84,
   "id": "bb6729f3",
   "metadata": {},
   "outputs": [
    {
     "name": "stdout",
     "output_type": "stream",
     "text": [
      "Enter the tuple1:45,78\n",
      "Enter the tuple2:python, hello\n",
      "('45,78', 'python, hello') <class 'tuple'>\n"
     ]
    }
   ],
   "source": [
    "t = input(\"Enter the tuple1:\")\n",
    "t1 = input(\"Enter the tuple2:\")\n",
    "new= t,t1\n",
    "n = type(new)\n",
    "print(new, n)"
   ]
  },
  {
   "cell_type": "code",
   "execution_count": 85,
   "id": "60ba89ce",
   "metadata": {},
   "outputs": [],
   "source": [
    "# Question 4: Immutable Nature of Tuples\n",
    "# Explain the concept of immutability in tuples and provide an example to demonstrate it."
   ]
  },
  {
   "cell_type": "code",
   "execution_count": 1,
   "id": "577112a0",
   "metadata": {},
   "outputs": [],
   "source": [
    "# Immutable nature of tuple means that once tuple has been credted then we can not change the elements."
   ]
  },
  {
   "cell_type": "code",
   "execution_count": 2,
   "id": "776ca0ad",
   "metadata": {},
   "outputs": [],
   "source": [
    "t = (45, 78, 50, 45)"
   ]
  },
  {
   "cell_type": "code",
   "execution_count": 4,
   "id": "f24175f1",
   "metadata": {},
   "outputs": [
    {
     "data": {
      "text/plain": [
       "tuple"
      ]
     },
     "execution_count": 4,
     "metadata": {},
     "output_type": "execute_result"
    }
   ],
   "source": [
    "type(t)"
   ]
  },
  {
   "cell_type": "code",
   "execution_count": 7,
   "id": "793d6746",
   "metadata": {},
   "outputs": [
    {
     "ename": "TypeError",
     "evalue": "'tuple' object does not support item assignment",
     "output_type": "error",
     "traceback": [
      "\u001b[1;31m---------------------------------------------------------------------------\u001b[0m",
      "\u001b[1;31mTypeError\u001b[0m                                 Traceback (most recent call last)",
      "Cell \u001b[1;32mIn[7], line 1\u001b[0m\n\u001b[1;32m----> 1\u001b[0m t[\u001b[38;5;241m0\u001b[39m]\u001b[38;5;241m=\u001b[39m\u001b[38;5;241m100\u001b[39m\n",
      "\u001b[1;31mTypeError\u001b[0m: 'tuple' object does not support item assignment"
     ]
    }
   ],
   "source": [
    "t[0]=100"
   ]
  },
  {
   "cell_type": "code",
   "execution_count": 8,
   "id": "1c1d8807",
   "metadata": {},
   "outputs": [
    {
     "ename": "AttributeError",
     "evalue": "'tuple' object has no attribute 'append'",
     "output_type": "error",
     "traceback": [
      "\u001b[1;31m---------------------------------------------------------------------------\u001b[0m",
      "\u001b[1;31mAttributeError\u001b[0m                            Traceback (most recent call last)",
      "Cell \u001b[1;32mIn[8], line 1\u001b[0m\n\u001b[1;32m----> 1\u001b[0m t\u001b[38;5;241m.\u001b[39mappend(\u001b[38;5;241m50\u001b[39m)\n",
      "\u001b[1;31mAttributeError\u001b[0m: 'tuple' object has no attribute 'append'"
     ]
    }
   ],
   "source": [
    "t.append(50)"
   ]
  },
  {
   "cell_type": "code",
   "execution_count": 9,
   "id": "0dcc605c",
   "metadata": {},
   "outputs": [],
   "source": [
    "# Question 5: Returning Multiple Values\n",
    "# Write a Python function that takes two numbers as input and\n",
    "# returns a tuple containing their sum and product."
   ]
  },
  {
   "cell_type": "code",
   "execution_count": 7,
   "id": "e4449162",
   "metadata": {},
   "outputs": [
    {
     "name": "stdout",
     "output_type": "stream",
     "text": [
      "Enter the firt number:5\n",
      "Enter the second number:5\n",
      "(10,)\n",
      "(25,)\n"
     ]
    },
    {
     "data": {
      "text/plain": [
       "int"
      ]
     },
     "execution_count": 7,
     "metadata": {},
     "output_type": "execute_result"
    }
   ],
   "source": [
    "num1 = int(input(\"Enter the firt number:\"))\n",
    "num2 = int(input(\"Enter the second number:\"))\n",
    "sum1 = num1+num2\n",
    "sum2 = num1*num2\n",
    "print((sum1,))\n",
    "print((sum2,))"
   ]
  },
  {
   "cell_type": "markdown",
   "id": "93ee0bd6",
   "metadata": {},
   "source": [
    "# Questions on string"
   ]
  },
  {
   "cell_type": "raw",
   "id": "6e600155",
   "metadata": {},
   "source": [
    "# Question: Counting Vowels and Consonants\n",
    "Write a Python function that takes a string as input and returns the count of vowels \n",
    "and consonants in the string.Consider that the input string will only contain alphabetic characters and no spaces."
   ]
  },
  {
   "cell_type": "code",
   "execution_count": 29,
   "id": "0c5057c0",
   "metadata": {},
   "outputs": [
    {
     "name": "stdout",
     "output_type": "stream",
     "text": [
      "Enter any word or sentence:dog is black\n",
      "The count of vowels is 3\n",
      "Consonants is 7\n"
     ]
    }
   ],
   "source": [
    "user = input(\"Enter any word or sentence:\")\n",
    "x = user.replace(\" \", \"\")\n",
    "a = x.count(\"a\")\n",
    "e = x.count(\"e\")\n",
    "i = x.count(\"i\")\n",
    "o = x.count(\"o\")\n",
    "u = x.count(\"u\")\n",
    "A = x.count(\"A\")\n",
    "E = x.count(\"E\")\n",
    "I = x.count(\"I\")\n",
    "O = x.count(\"O\")\n",
    "U = x.count(\"U\")\n",
    "l = len(x)\n",
    "sum1=(a+e+i+o+u+A+E+I+O+U)\n",
    "c = l-sum1\n",
    "print(\"The count of vowels is \"+str(sum1))\n",
    "print(\"Consonants is \"+str(c))"
   ]
  },
  {
   "cell_type": "code",
   "execution_count": 30,
   "id": "b513bf88",
   "metadata": {},
   "outputs": [
    {
     "data": {
      "text/plain": [
       "10"
      ]
     },
     "execution_count": 30,
     "metadata": {},
     "output_type": "execute_result"
    }
   ],
   "source": [
    "l"
   ]
  },
  {
   "cell_type": "code",
   "execution_count": null,
   "id": "945cbdeb",
   "metadata": {},
   "outputs": [],
   "source": []
  },
  {
   "cell_type": "markdown",
   "id": "e8861e9b",
   "metadata": {},
   "source": [
    "# Question 1: Reversing a String\n",
    "Write a Python function to reverse a given string."
   ]
  },
  {
   "cell_type": "code",
   "execution_count": 59,
   "id": "cab7c909",
   "metadata": {},
   "outputs": [
    {
     "name": "stdout",
     "output_type": "stream",
     "text": [
      "Write any string:dog is black\n"
     ]
    },
    {
     "data": {
      "text/plain": [
       "'kcalb si god'"
      ]
     },
     "execution_count": 59,
     "metadata": {},
     "output_type": "execute_result"
    }
   ],
   "source": [
    "st = input(\"Write any string:\")\n",
    "st[::-1]\n"
   ]
  },
  {
   "cell_type": "code",
   "execution_count": null,
   "id": "d299bc00",
   "metadata": {},
   "outputs": [],
   "source": []
  },
  {
   "cell_type": "markdown",
   "id": "bbee9f09",
   "metadata": {},
   "source": [
    "\n",
    "# Question 2: Palindrome Check\n",
    "Write a Python function that checks if a given string is a palindrome \n",
    "(reads the same forwards and backwards).\n"
   ]
  },
  {
   "cell_type": "code",
   "execution_count": null,
   "id": "b9ffe1e7",
   "metadata": {},
   "outputs": [],
   "source": []
  },
  {
   "cell_type": "code",
   "execution_count": 89,
   "id": "dc6667df",
   "metadata": {},
   "outputs": [
    {
     "name": "stdout",
     "output_type": "stream",
     "text": [
      "Enter any word: mouse\n",
      "Not palindrome\n"
     ]
    }
   ],
   "source": [
    "user = input(\"Enter any word: \")\n",
    "if user==user[::-1]:\n",
    "    print(user+\" is palindrome\")\n",
    "else:\n",
    "    print(\"Not palindrome\")\n"
   ]
  },
  {
   "cell_type": "markdown",
   "id": "b8003d0c",
   "metadata": {},
   "source": [
    "# Question 3: Counting Character Frequencies\n",
    "Write a Python function that takes a string as input and returns a dictionary \n",
    "where keys are characters present in the string, \n",
    "and values are the frequencies of those characters.\n"
   ]
  },
  {
   "cell_type": "code",
   "execution_count": 91,
   "id": "6749bc4e",
   "metadata": {},
   "outputs": [
    {
     "name": "stdout",
     "output_type": "stream",
     "text": [
      "Enter word:hello\n",
      "{'hello': 5}\n"
     ]
    }
   ],
   "source": [
    "char = input(\"Enter word:\")\n",
    "x = len(char)\n",
    "dic = {char:x}\n",
    "print(dic)"
   ]
  },
  {
   "cell_type": "markdown",
   "id": "12fa830f",
   "metadata": {},
   "source": [
    "# Question 4: Word Count\n",
    "Write a Python function that takes a sentence (a string containing words separated by spaces)\n",
    "and returns the count of words in the sentence."
   ]
  },
  {
   "cell_type": "code",
   "execution_count": 102,
   "id": "48ffadcc",
   "metadata": {},
   "outputs": [
    {
     "name": "stdout",
     "output_type": "stream",
     "text": [
      "enter sentence:hello how are you dude\n",
      "['hello', 'how', 'are', 'you', 'dude']\n",
      "5\n"
     ]
    }
   ],
   "source": [
    "h = input(\"enter sentence:\")\n",
    "x=h.split()\n",
    "y = len(x)\n",
    "print(x)\n",
    "print(y)"
   ]
  },
  {
   "cell_type": "markdown",
   "id": "eacbbf76",
   "metadata": {},
   "source": [
    "# Q. uestion 5: Capitalize Words\n",
    "Write a Python function that takes a sentence and returns the sentence with each word capitalized.\n"
   ]
  },
  {
   "cell_type": "code",
   "execution_count": null,
   "id": "212518cc",
   "metadata": {},
   "outputs": [],
   "source": []
  },
  {
   "cell_type": "code",
   "execution_count": 1,
   "id": "95affd1d",
   "metadata": {},
   "outputs": [
    {
     "name": "stdout",
     "output_type": "stream",
     "text": [
      "Write sentence:Hi python is fun\n",
      "Hi Python Is Fun\n"
     ]
    }
   ],
   "source": [
    "user_ = input(\"Write sentence:\")\n",
    "x = user_.title()\n",
    "print(x)"
   ]
  },
  {
   "cell_type": "markdown",
   "id": "63cec4a6",
   "metadata": {},
   "source": [
    "# Question 6: Replace Substring\n",
    "Write a Python function that takes a string, a target substring, \n",
    "and a replacement string, and returns the modified string with \n",
    "all occurrences of the target substring replaced by the replacement string.\n"
   ]
  },
  {
   "cell_type": "code",
   "execution_count": 10,
   "id": "3cfa048e",
   "metadata": {},
   "outputs": [],
   "source": [
    "t = \"Welcome to the python course.\""
   ]
  },
  {
   "cell_type": "code",
   "execution_count": 11,
   "id": "894db767",
   "metadata": {},
   "outputs": [
    {
     "data": {
      "text/plain": [
       "'Welcome to the python course.'"
      ]
     },
     "execution_count": 11,
     "metadata": {},
     "output_type": "execute_result"
    }
   ],
   "source": [
    "t"
   ]
  },
  {
   "cell_type": "code",
   "execution_count": 13,
   "id": "9b64e54d",
   "metadata": {},
   "outputs": [
    {
     "data": {
      "text/plain": [
       "'Welcome to the python class.'"
      ]
     },
     "execution_count": 13,
     "metadata": {},
     "output_type": "execute_result"
    }
   ],
   "source": [
    "t.replace(\"course\", \"class\")"
   ]
  },
  {
   "cell_type": "code",
   "execution_count": null,
   "id": "da252084",
   "metadata": {},
   "outputs": [],
   "source": []
  },
  {
   "cell_type": "markdown",
   "id": "e58b16f3",
   "metadata": {},
   "source": [
    "# Questions on List"
   ]
  },
  {
   "cell_type": "code",
   "execution_count": 14,
   "id": "ffeeeab9",
   "metadata": {},
   "outputs": [],
   "source": [
    "# Question 1: Finding the Maximum and Minimum\n",
    "# Write a Python function that takes a list of numbers as input and\n",
    "# returns the maximum and minimum values in the list."
   ]
  },
  {
   "cell_type": "code",
   "execution_count": null,
   "id": "3e54fc6e",
   "metadata": {},
   "outputs": [],
   "source": [
    "n = input(\"Enter the multilple numbers:\")\n",
    "x = n.split(\",\")\n",
    "new = []\n",
    "for i in x:\n",
    "    g = int(i)\n",
    "    new.append(g)\n",
    "m=max(new)\n",
    "print(\"The maximum number is:\",m)\n",
    "n=min(new)\n",
    "print(\"The minimum number is:\",n)"
   ]
  },
  {
   "cell_type": "code",
   "execution_count": null,
   "id": "2198bb20",
   "metadata": {},
   "outputs": [],
   "source": [
    "Question 1: Finding the Maximum and Minimum\n",
    "Write a Python function that takes a list of numbers as input and\n",
    "returns the maximum and minimum values in the list.\n",
    "\n",
    "Question 2: List Comprehension\n",
    "Write a Python program that takes a list of numbers and \n",
    "returns a new list containing only the even numbers from the original list.\n",
    "\n",
    "Question 3: List Reversal\n",
    "Write a Python function that takes a list as \n",
    "input and returns a new list with the elements reversed.\n",
    "\n",
    "Question 4: Removing Duplicates\n",
    "Write a Python function that takes a list as input and\n",
    "returns a new list with all the duplicates removed."
   ]
  }
 ],
 "metadata": {
  "kernelspec": {
   "display_name": "Python 3 (ipykernel)",
   "language": "python",
   "name": "python3"
  },
  "language_info": {
   "codemirror_mode": {
    "name": "ipython",
    "version": 3
   },
   "file_extension": ".py",
   "mimetype": "text/x-python",
   "name": "python",
   "nbconvert_exporter": "python",
   "pygments_lexer": "ipython3",
   "version": "3.11.4"
  }
 },
 "nbformat": 4,
 "nbformat_minor": 5
}
