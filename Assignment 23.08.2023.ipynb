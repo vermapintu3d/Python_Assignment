{
 "cells": [
  {
   "cell_type": "markdown",
   "id": "11a255bb",
   "metadata": {},
   "source": [
    "# Tuple:\n",
    "Question 1: Tuple Basics\n",
    "Define a tuple containing the names of five countries.Access and print the third country from the tuple."
   ]
  },
  {
   "cell_type": "code",
   "execution_count": 5,
   "id": "cb407289",
   "metadata": {},
   "outputs": [],
   "source": [
    "t = (\"India\", \"America\", \"Chin\", \"Iran\", \"Russia\")"
   ]
  },
  {
   "cell_type": "code",
   "execution_count": 6,
   "id": "cb768293",
   "metadata": {},
   "outputs": [
    {
     "data": {
      "text/plain": [
       "'Chin'"
      ]
     },
     "execution_count": 6,
     "metadata": {},
     "output_type": "execute_result"
    }
   ],
   "source": [
    "t[2]"
   ]
  },
  {
   "cell_type": "code",
   "execution_count": 7,
   "id": "b11010b0",
   "metadata": {},
   "outputs": [],
   "source": [
    "# Question 2: Unpacking Tuples\n",
    "# Write a Python program that defines a tuple containing a student's name and their score in a test.\n",
    "# Unpack the tuple to separate the name and score, and then print them."
   ]
  },
  {
   "cell_type": "code",
   "execution_count": 26,
   "id": "ed62762b",
   "metadata": {},
   "outputs": [],
   "source": [
    "info = (\"Pawan\", 26, 95)"
   ]
  },
  {
   "cell_type": "code",
   "execution_count": 27,
   "id": "de7384e9",
   "metadata": {},
   "outputs": [],
   "source": [
    "Name,Age,Marks=info"
   ]
  },
  {
   "cell_type": "code",
   "execution_count": 28,
   "id": "d4c75fb7",
   "metadata": {},
   "outputs": [
    {
     "data": {
      "text/plain": [
       "'Pawan'"
      ]
     },
     "execution_count": 28,
     "metadata": {},
     "output_type": "execute_result"
    }
   ],
   "source": [
    "Name"
   ]
  },
  {
   "cell_type": "code",
   "execution_count": 29,
   "id": "addc0fee",
   "metadata": {},
   "outputs": [
    {
     "data": {
      "text/plain": [
       "26"
      ]
     },
     "execution_count": 29,
     "metadata": {},
     "output_type": "execute_result"
    }
   ],
   "source": [
    "Age"
   ]
  },
  {
   "cell_type": "code",
   "execution_count": 30,
   "id": "7555138e",
   "metadata": {},
   "outputs": [
    {
     "data": {
      "text/plain": [
       "95"
      ]
     },
     "execution_count": 30,
     "metadata": {},
     "output_type": "execute_result"
    }
   ],
   "source": [
    "Marks"
   ]
  },
  {
   "cell_type": "code",
   "execution_count": 31,
   "id": "8098a201",
   "metadata": {},
   "outputs": [],
   "source": [
    "# Question 3: Tuple Concatenation\n",
    "# Write a Python program that takes two tuples as input and returns.\n",
    "# a new tuple containing the elements from both tuples."
   ]
  },
  {
   "cell_type": "code",
   "execution_count": 84,
   "id": "bb6729f3",
   "metadata": {},
   "outputs": [
    {
     "name": "stdout",
     "output_type": "stream",
     "text": [
      "Enter the tuple1:45,78\n",
      "Enter the tuple2:python, hello\n",
      "('45,78', 'python, hello') <class 'tuple'>\n"
     ]
    }
   ],
   "source": [
    "t = input(\"Enter the tuple1:\")\n",
    "t1 = input(\"Enter the tuple2:\")\n",
    "new= t,t1\n",
    "n = type(new)\n",
    "print(new, n)"
   ]
  },
  {
   "cell_type": "code",
   "execution_count": 85,
   "id": "60ba89ce",
   "metadata": {},
   "outputs": [],
   "source": [
    "# Question 4: Immutable Nature of Tuples\n",
    "# Explain the concept of immutability in tuples and provide an example to demonstrate it."
   ]
  },
  {
   "cell_type": "raw",
   "id": "98cee75f",
   "metadata": {},
   "source": [
    "Immutable nature of tuple means that once tuple has been created then we can not change the elements."
   ]
  },
  {
   "cell_type": "code",
   "execution_count": 1,
   "id": "776ca0ad",
   "metadata": {},
   "outputs": [],
   "source": [
    "t = (45, 78, 50, 45)"
   ]
  },
  {
   "cell_type": "code",
   "execution_count": 2,
   "id": "f24175f1",
   "metadata": {},
   "outputs": [
    {
     "data": {
      "text/plain": [
       "tuple"
      ]
     },
     "execution_count": 2,
     "metadata": {},
     "output_type": "execute_result"
    }
   ],
   "source": [
    "type(t)"
   ]
  },
  {
   "cell_type": "code",
   "execution_count": 3,
   "id": "793d6746",
   "metadata": {},
   "outputs": [
    {
     "ename": "TypeError",
     "evalue": "'tuple' object does not support item assignment",
     "output_type": "error",
     "traceback": [
      "\u001b[1;31m---------------------------------------------------------------------------\u001b[0m",
      "\u001b[1;31mTypeError\u001b[0m                                 Traceback (most recent call last)",
      "Cell \u001b[1;32mIn[3], line 1\u001b[0m\n\u001b[1;32m----> 1\u001b[0m t[\u001b[38;5;241m0\u001b[39m]\u001b[38;5;241m=\u001b[39m\u001b[38;5;241m100\u001b[39m\n",
      "\u001b[1;31mTypeError\u001b[0m: 'tuple' object does not support item assignment"
     ]
    }
   ],
   "source": [
    "t[0]=100"
   ]
  },
  {
   "cell_type": "code",
   "execution_count": null,
   "id": "1c1d8807",
   "metadata": {},
   "outputs": [],
   "source": [
    "t.append(50)"
   ]
  },
  {
   "cell_type": "code",
   "execution_count": 8,
   "id": "0dcc605c",
   "metadata": {},
   "outputs": [],
   "source": [
    "# Question 5: Returning Multiple Values\n",
    "# Write a Python function that takes two numbers as input and\n",
    "# returns a tuple containing their sum and product."
   ]
  },
  {
   "cell_type": "code",
   "execution_count": 18,
   "id": "1d696e2c",
   "metadata": {},
   "outputs": [
    {
     "name": "stdout",
     "output_type": "stream",
     "text": [
      "Enter first number:50\n",
      "Enter second number:5\n",
      "\n",
      "The sum is:55\n",
      "The product is:250\n"
     ]
    }
   ],
   "source": [
    "num1=int(input('Enter first number:'))\n",
    "num2=int(input('Enter second number:'))\n",
    "def product(num1, num2):\n",
    "    s=num1+num2\n",
    "    p=num1*num2\n",
    "    print(f'The sum is:{s}')\n",
    "    print(f'The product is:{p}')\n",
    "print()\n",
    "product(num1,num2)   "
   ]
  },
  {
   "cell_type": "code",
   "execution_count": null,
   "id": "9232b773",
   "metadata": {},
   "outputs": [],
   "source": []
  },
  {
   "cell_type": "code",
   "execution_count": null,
   "id": "fb5684e2",
   "metadata": {},
   "outputs": [],
   "source": []
  },
  {
   "cell_type": "markdown",
   "id": "93ee0bd6",
   "metadata": {},
   "source": [
    "# Questions on string"
   ]
  },
  {
   "cell_type": "raw",
   "id": "6e600155",
   "metadata": {},
   "source": [
    "# Question: Counting Vowels and Consonants\n",
    "Write a Python function that takes a string as input and returns the count of vowels \n",
    "and consonants in the string.Consider that the input string will only contain alphabetic characters and no spaces."
   ]
  },
  {
   "cell_type": "code",
   "execution_count": 29,
   "id": "0c5057c0",
   "metadata": {},
   "outputs": [
    {
     "name": "stdout",
     "output_type": "stream",
     "text": [
      "Enter any word or sentence:dog is black\n",
      "The count of vowels is 3\n",
      "Consonants is 7\n"
     ]
    }
   ],
   "source": [
    "user = input(\"Enter any word or sentence:\")\n",
    "x = user.replace(\" \", \"\")\n",
    "a = x.count(\"a\")\n",
    "e = x.count(\"e\")\n",
    "i = x.count(\"i\")\n",
    "o = x.count(\"o\")\n",
    "u = x.count(\"u\")\n",
    "A = x.count(\"A\")\n",
    "E = x.count(\"E\")\n",
    "I = x.count(\"I\")\n",
    "O = x.count(\"O\")\n",
    "U = x.count(\"U\")\n",
    "l = len(x)\n",
    "sum1=(a+e+i+o+u+A+E+I+O+U)\n",
    "c = l-sum1\n",
    "print(\"The count of vowels is \"+str(sum1))\n",
    "print(\"Consonants is \"+str(c))"
   ]
  },
  {
   "cell_type": "code",
   "execution_count": 30,
   "id": "b513bf88",
   "metadata": {},
   "outputs": [
    {
     "data": {
      "text/plain": [
       "10"
      ]
     },
     "execution_count": 30,
     "metadata": {},
     "output_type": "execute_result"
    }
   ],
   "source": [
    "l"
   ]
  },
  {
   "cell_type": "code",
   "execution_count": 15,
   "id": "945cbdeb",
   "metadata": {},
   "outputs": [
    {
     "name": "stdout",
     "output_type": "stream",
     "text": [
      "Enter any word or sentence:hello worrld\n"
     ]
    }
   ],
   "source": [
    "user = input(\"Enter any word or sentence:\")\n",
    "x = user.replace(\" \", \"\")\n",
    "vowels='aeiouAEIOU'\n",
    "for v in x:\n",
    "    if 'aeiou' in v:\n",
    "        u=v.count(vowels)\n",
    "        print(v,u)\n",
    "        \n",
    "        \n",
    "        "
   ]
  },
  {
   "cell_type": "code",
   "execution_count": null,
   "id": "37971624",
   "metadata": {},
   "outputs": [],
   "source": []
  },
  {
   "cell_type": "code",
   "execution_count": null,
   "id": "25776153",
   "metadata": {},
   "outputs": [],
   "source": []
  },
  {
   "cell_type": "markdown",
   "id": "e8861e9b",
   "metadata": {},
   "source": [
    "# Question 1: Reversing a String\n",
    "Write a Python function to reverse a given string."
   ]
  },
  {
   "cell_type": "code",
   "execution_count": 30,
   "id": "cab7c909",
   "metadata": {},
   "outputs": [
    {
     "name": "stdout",
     "output_type": "stream",
     "text": [
      "Write any string:hello sir\n"
     ]
    },
    {
     "data": {
      "text/plain": [
       "'ris olleh'"
      ]
     },
     "execution_count": 30,
     "metadata": {},
     "output_type": "execute_result"
    }
   ],
   "source": [
    "st = input(\"Write any string:\")\n",
    "def reverse(st):\n",
    "    return st[::-1]\n",
    "reverse(st)\n"
   ]
  },
  {
   "cell_type": "code",
   "execution_count": 26,
   "id": "d299bc00",
   "metadata": {},
   "outputs": [
    {
     "ename": "TypeError",
     "evalue": "reverse() missing 1 required positional argument: 'st'",
     "output_type": "error",
     "traceback": [
      "\u001b[1;31m---------------------------------------------------------------------------\u001b[0m",
      "\u001b[1;31mTypeError\u001b[0m                                 Traceback (most recent call last)",
      "Cell \u001b[1;32mIn[26], line 1\u001b[0m\n\u001b[1;32m----> 1\u001b[0m reverse()\n",
      "\u001b[1;31mTypeError\u001b[0m: reverse() missing 1 required positional argument: 'st'"
     ]
    }
   ],
   "source": []
  },
  {
   "cell_type": "markdown",
   "id": "bbee9f09",
   "metadata": {},
   "source": [
    "\n",
    "# Question 2: Palindrome Check\n",
    "Write a Python function that checks if a given string is a palindrome \n",
    "(reads the same forwards and backwards).\n"
   ]
  },
  {
   "cell_type": "code",
   "execution_count": 19,
   "id": "b9ffe1e7",
   "metadata": {},
   "outputs": [
    {
     "name": "stdout",
     "output_type": "stream",
     "text": [
      "Enter any word: hello \n",
      "Not palindrome\n"
     ]
    }
   ],
   "source": [
    "user = input(\"Enter any word: \")\n",
    "def palindrome(user):\n",
    "    if user==user[::-1]:\n",
    "        print(user+\" is palindrome\")\n",
    "    else:\n",
    "        print(\"Not palindrome\")\n",
    "palindrome(user)"
   ]
  },
  {
   "cell_type": "markdown",
   "id": "b8003d0c",
   "metadata": {},
   "source": [
    "# Question 3: Counting Character Frequencies\n",
    "Write a Python function that takes a string as input and returns a dictionary \n",
    "where keys are characters present in the string, \n",
    "and values are the frequencies of those characters.\n"
   ]
  },
  {
   "cell_type": "raw",
   "id": "2903bd57",
   "metadata": {},
   "source": []
  },
  {
   "cell_type": "code",
   "execution_count": 91,
   "id": "6749bc4e",
   "metadata": {},
   "outputs": [
    {
     "name": "stdout",
     "output_type": "stream",
     "text": [
      "Enter word:hello\n",
      "{'hello': 5}\n"
     ]
    }
   ],
   "source": [
    "char = input(\"Enter word:\")      #string method\n",
    "x = len(char)\n",
    "dic = {char:x}\n",
    "print(dic)"
   ]
  },
  {
   "cell_type": "code",
   "execution_count": 53,
   "id": "8f5ea139",
   "metadata": {},
   "outputs": [
    {
     "name": "stdout",
     "output_type": "stream",
     "text": [
      "Enter word:apply the dictionary\n"
     ]
    },
    {
     "data": {
      "text/plain": [
       "{'a': 2,\n",
       " 'p': 2,\n",
       " 'l': 1,\n",
       " 'y': 2,\n",
       " ' ': 2,\n",
       " 't': 2,\n",
       " 'h': 1,\n",
       " 'e': 1,\n",
       " 'd': 1,\n",
       " 'i': 2,\n",
       " 'c': 1,\n",
       " 'o': 1,\n",
       " 'n': 1,\n",
       " 'r': 1}"
      ]
     },
     "execution_count": 53,
     "metadata": {},
     "output_type": "execute_result"
    }
   ],
   "source": [
    "char = input(\"Enter word:\")      #using functions\n",
    "\n",
    "def char_freq(char):\n",
    "    dict1={}\n",
    "    for i in char:\n",
    "        keys=dict1.keys()\n",
    "        if i in keys:\n",
    "            dict1[i]+=1\n",
    "        else:\n",
    "            dict1[i]=1\n",
    "    return dict1\n",
    "char_freq(char)"
   ]
  },
  {
   "cell_type": "markdown",
   "id": "12fa830f",
   "metadata": {},
   "source": [
    "# Question 4: Word Count\n",
    "Write a Python function that takes a sentence (a string containing words separated by spaces)\n",
    "and returns the count of words in the sentence."
   ]
  },
  {
   "cell_type": "code",
   "execution_count": 102,
   "id": "48ffadcc",
   "metadata": {},
   "outputs": [
    {
     "name": "stdout",
     "output_type": "stream",
     "text": [
      "enter sentence:hello how are you dude\n",
      "['hello', 'how', 'are', 'you', 'dude']\n",
      "5\n"
     ]
    }
   ],
   "source": [
    "h = input(\"enter sentence:\")    #string method\n",
    "x=h.split()\n",
    "y = len(x)\n",
    "print(x)\n",
    "print(y)"
   ]
  },
  {
   "cell_type": "code",
   "execution_count": 47,
   "id": "b815ce1e",
   "metadata": {},
   "outputs": [
    {
     "name": "stdout",
     "output_type": "stream",
     "text": [
      "enter sentence:My name is pintu\n",
      "['My', 'name', 'is', 'pintu']\n",
      "4\n"
     ]
    }
   ],
   "source": [
    "h = input(\"enter sentence:\")      #using function\n",
    "def word_count(h):\n",
    "    x=h.split()\n",
    "    y=len(x)\n",
    "    print(x)\n",
    "    print(y)\n",
    "word_count(h)"
   ]
  },
  {
   "cell_type": "code",
   "execution_count": null,
   "id": "1ac6cd77",
   "metadata": {},
   "outputs": [],
   "source": []
  },
  {
   "cell_type": "markdown",
   "id": "eacbbf76",
   "metadata": {},
   "source": [
    "# Q. uestion 5: Capitalize Words\n",
    "Write a Python function that takes a sentence and returns the sentence with each word capitalized.\n"
   ]
  },
  {
   "cell_type": "code",
   "execution_count": 50,
   "id": "212518cc",
   "metadata": {},
   "outputs": [
    {
     "name": "stdout",
     "output_type": "stream",
     "text": [
      "Write sentence:hello saraswati kumari\n",
      "Hello Saraswati Kumari\n"
     ]
    }
   ],
   "source": [
    "user_ = input(\"Write sentence:\")   #using function method\n",
    "def cap_word(user):\n",
    "    c=user_.title()\n",
    "    print(c)\n",
    "cap_word(user)"
   ]
  },
  {
   "cell_type": "code",
   "execution_count": null,
   "id": "77379ae5",
   "metadata": {},
   "outputs": [],
   "source": []
  },
  {
   "cell_type": "code",
   "execution_count": 1,
   "id": "95affd1d",
   "metadata": {},
   "outputs": [
    {
     "name": "stdout",
     "output_type": "stream",
     "text": [
      "Write sentence:Hi python is fun\n",
      "Hi Python Is Fun\n"
     ]
    }
   ],
   "source": [
    "user_ = input(\"Write sentence:\")    # string method\n",
    "x = user_.title()\n",
    "print(x)"
   ]
  },
  {
   "cell_type": "markdown",
   "id": "63cec4a6",
   "metadata": {},
   "source": [
    "# Question 6: Replace Substring\n",
    "Write a Python function that takes a string, a target substring, \n",
    "and a replacement string, and returns the modified string with \n",
    "all occurrences of the target substring replaced by the replacement string.\n"
   ]
  },
  {
   "cell_type": "code",
   "execution_count": 10,
   "id": "3cfa048e",
   "metadata": {},
   "outputs": [],
   "source": [
    "t = \"Welcome to the python course.\""
   ]
  },
  {
   "cell_type": "code",
   "execution_count": 11,
   "id": "894db767",
   "metadata": {},
   "outputs": [
    {
     "data": {
      "text/plain": [
       "'Welcome to the python course.'"
      ]
     },
     "execution_count": 11,
     "metadata": {},
     "output_type": "execute_result"
    }
   ],
   "source": [
    "t"
   ]
  },
  {
   "cell_type": "code",
   "execution_count": 13,
   "id": "9b64e54d",
   "metadata": {},
   "outputs": [
    {
     "data": {
      "text/plain": [
       "'Welcome to the python class.'"
      ]
     },
     "execution_count": 13,
     "metadata": {},
     "output_type": "execute_result"
    }
   ],
   "source": [
    "t.replace(\"course\", \"class\")"
   ]
  },
  {
   "cell_type": "code",
   "execution_count": 51,
   "id": "da252084",
   "metadata": {},
   "outputs": [
    {
     "name": "stdout",
     "output_type": "stream",
     "text": [
      "Welcome to the python class.\n"
     ]
    }
   ],
   "source": [
    "t = \"Welcome to the python course.\"\n",
    "def replace(t):\n",
    "    r=t.replace(\"course\",\"class\")\n",
    "    print(r)\n",
    "replace(t)"
   ]
  },
  {
   "cell_type": "markdown",
   "id": "e58b16f3",
   "metadata": {},
   "source": [
    "# Questions on List"
   ]
  },
  {
   "cell_type": "markdown",
   "id": "2165f08b",
   "metadata": {},
   "source": [
    "Question 1: Finding the Maximum and Minimum\n",
    " Write a Python function that takes a list of numbers as input and\n",
    " returns the maximum and minimum values in the list."
   ]
  },
  {
   "cell_type": "code",
   "execution_count": null,
   "id": "3e54fc6e",
   "metadata": {},
   "outputs": [],
   "source": [
    "n = input(\"Enter the multilple numbers:\")\n",
    "x = n.split(\",\")\n",
    "new = []\n",
    "for i in x:\n",
    "    g = int(i)\n",
    "    new.append(g)\n",
    "m=max(new)\n",
    "print(\"The maximum number is:\",m)\n",
    "n=min(new)\n",
    "print(\"The minimum number is:\",n)"
   ]
  },
  {
   "cell_type": "code",
   "execution_count": 70,
   "id": "24f3ae18",
   "metadata": {},
   "outputs": [
    {
     "name": "stdout",
     "output_type": "stream",
     "text": [
      "Enter the multilple numbers:1,5,7,9,20,50\n",
      "The max number is:50\n",
      "The min number is:1\n"
     ]
    }
   ],
   "source": [
    "n = input(\"Enter the multilple numbers:\")     #function method\n",
    "x=n.split(\",\")\n",
    "def maxmin(x):\n",
    "    new=[]\n",
    "    for i in x:\n",
    "        g=int(i)\n",
    "        new.append(g)\n",
    "    m=max(new)\n",
    "    print(f\"The max number is:{m}\")\n",
    "    n=min(new)\n",
    "    print(f\"The min number is:{n}\")\n",
    "maxmin(x)"
   ]
  },
  {
   "cell_type": "markdown",
   "id": "9cd7846b",
   "metadata": {},
   "source": []
  },
  {
   "cell_type": "markdown",
   "id": "429f2e27",
   "metadata": {},
   "source": [
    "Question 2: List Comprehension\n",
    "Write a Python program that takes a list of numbers and \n",
    "returns a new list containing only the even numbers from the original list."
   ]
  },
  {
   "cell_type": "code",
   "execution_count": 71,
   "id": "33245b17",
   "metadata": {},
   "outputs": [],
   "source": [
    "l=[1,2,3,4,8,7,9,11,12,13,20]"
   ]
  },
  {
   "cell_type": "code",
   "execution_count": 72,
   "id": "aaf27105",
   "metadata": {},
   "outputs": [
    {
     "data": {
      "text/plain": [
       "[2, 4, 8, 12, 20]"
      ]
     },
     "execution_count": 72,
     "metadata": {},
     "output_type": "execute_result"
    }
   ],
   "source": [
    "[i for i in l if i%2==0]"
   ]
  },
  {
   "cell_type": "markdown",
   "id": "6d6479ee",
   "metadata": {},
   "source": [
    "Question 3: List Reversal Write a Python function that takes a list as input and returns a new list with the elements reversed."
   ]
  },
  {
   "cell_type": "code",
   "execution_count": 160,
   "id": "b4238ec2",
   "metadata": {},
   "outputs": [
    {
     "name": "stdout",
     "output_type": "stream",
     "text": [
      "Enter the list of number:1,2,3,4,5\n",
      "['5', ',', '4', ',', '3', ',', '2', ',', '1']\n"
     ]
    }
   ],
   "source": [
    "n=input(\"Enter the list of number:\")\n",
    "y=n.split()\n",
    "def reversal(y):\n",
    "    newl=[]\n",
    "    for i in n:\n",
    "        newl.append(i)\n",
    "    newl.reverse()\n",
    "    print(newl)\n",
    "reversal(y)"
   ]
  },
  {
   "cell_type": "code",
   "execution_count": 151,
   "id": "e0d23c48",
   "metadata": {},
   "outputs": [
    {
     "data": {
      "text/plain": [
       "[20, 13, 12, 11, 9, 7, 8, 4, 3, 2, 1]"
      ]
     },
     "execution_count": 151,
     "metadata": {},
     "output_type": "execute_result"
    }
   ],
   "source": [
    "l"
   ]
  },
  {
   "cell_type": "code",
   "execution_count": 167,
   "id": "370fcb26",
   "metadata": {},
   "outputs": [
    {
     "name": "stdout",
     "output_type": "stream",
     "text": [
      "1234568\n"
     ]
    },
    {
     "data": {
      "text/plain": [
       "['8', '6', '5', '4', '3', '2', '1']"
      ]
     },
     "execution_count": 167,
     "metadata": {},
     "output_type": "execute_result"
    }
   ],
   "source": [
    "lst=input()\n",
    "neww=[]\n",
    "def Reverse(lst):\n",
    "    for i in lst:\n",
    "        neww.append(i)\n",
    "        newlist=neww[::-1]\n",
    "    return newlist\n",
    "Reverse(lst)"
   ]
  },
  {
   "cell_type": "code",
   "execution_count": 91,
   "id": "849ed0dc",
   "metadata": {},
   "outputs": [
    {
     "data": {
      "text/plain": [
       "[20, 13, 12, 11, 9, 7, 8, 4, 3, 2, 1]"
      ]
     },
     "execution_count": 91,
     "metadata": {},
     "output_type": "execute_result"
    }
   ],
   "source": []
  },
  {
   "cell_type": "markdown",
   "id": "3ca62d96",
   "metadata": {},
   "source": [
    "Question 4: Removing Duplicates\n",
    "Write a Python function that takes a list as input and\n",
    "returns a new list with all the duplicates removed."
   ]
  },
  {
   "cell_type": "code",
   "execution_count": 197,
   "id": "8e223830",
   "metadata": {},
   "outputs": [],
   "source": []
  },
  {
   "cell_type": "code",
   "execution_count": 200,
   "id": "97b67ff9",
   "metadata": {},
   "outputs": [
    {
     "data": {
      "text/plain": [
       "[5, 6, 7, 8, 10, 25]"
      ]
     },
     "execution_count": 200,
     "metadata": {},
     "output_type": "execute_result"
    }
   ],
   "source": [
    "l1=[10,25,5,10,6,25,8,7,6]\n",
    "def dup(l1):\n",
    "    b=set(l1)\n",
    "    l1=list(b)\n",
    "    return l1\n",
    "dup(l1)\n",
    "    "
   ]
  },
  {
   "cell_type": "code",
   "execution_count": null,
   "id": "2de9a07b",
   "metadata": {},
   "outputs": [],
   "source": []
  }
 ],
 "metadata": {
  "kernelspec": {
   "display_name": "Python 3 (ipykernel)",
   "language": "python",
   "name": "python3"
  },
  "language_info": {
   "codemirror_mode": {
    "name": "ipython",
    "version": 3
   },
   "file_extension": ".py",
   "mimetype": "text/x-python",
   "name": "python",
   "nbconvert_exporter": "python",
   "pygments_lexer": "ipython3",
   "version": "3.11.4"
  }
 },
 "nbformat": 4,
 "nbformat_minor": 5
}
